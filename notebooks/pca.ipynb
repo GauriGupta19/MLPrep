{
 "cells": [
  {
   "cell_type": "code",
   "execution_count": null,
   "metadata": {},
   "outputs": [],
   "source": [
    "from argparse import ArgumentParser\n",
    "\n",
    "import numpy as np\n",
    "from sklearn import datasets\n",
    "from sklearn.decomposition import PCA\n",
    "\n",
    "\n",
    "def pca_fit(X_norm, k, p=None):\n",
    "    \"\"\"\n",
    "    Apply PCA on normalized data X_norm and return PCA components that explains\n",
    "    p% of total variance\n",
    "\n",
    "    :param X: normalized data of type np.array (NxF)\n",
    "    :param p: percentage of explained variance to capture\n",
    "    :param k: number of principal components\n",
    "    :return: return k PCA components that explain p% of total variance\n",
    "    \"\"\"\n",
    "\n",
    "    U, D, Vt = np.linalg.svd(X_norm, full_matrices=False)\n",
    "\n",
    "    explained_variance = D ** 2 / (len(X_norm) - 1)\n",
    "    explained_variance_ratio = explained_variance / explained_variance.sum()\n",
    "    if p is not None:\n",
    "        cumulative_variance = np.cumsum(explained_variance_ratio)\n",
    "        k = 0\n",
    "        high = len(cumulative_variance) + 1\n",
    "\n",
    "        while k < high:\n",
    "            mid = (k + high) // 2\n",
    "\n",
    "            if cumulative_variance[mid] < p:\n",
    "                k = mid + 1\n",
    "            else:\n",
    "                high = mid\n",
    "\n",
    "        k += 1\n",
    "\n",
    "    pca_components = Vt[:k]\n",
    "    explained_var = explained_variance_ratio[:k]\n",
    "    return pca_components, explained_var\n",
    "\n",
    "\n",
    " "
   ]
  },
  {
   "cell_type": "code",
   "execution_count": null,
   "metadata": {},
   "outputs": [],
   "source": [
    "X = datasets.load_iris().data\n",
    "\n",
    "X_mean = X.mean(0, keepdims=True)\n",
    "X_std = X.std(0, keepdims=True)\n",
    "X_norm = (X - X_mean) / X_std\n",
    "\n",
    "pca_components, pca_explained_var = pca_fit(X_norm, args.k, args.p)\n",
    "print(pca_components)\n",
    "print(pca_explained_var)\n",
    "\n",
    "pca_sk = pca_sklearn(X_norm, args.k)\n",
    "signs = np.where(pca_sk.components_[:, 0] == pca_components[:, 0], 1.0, -1.0)\n",
    "pca_components *= signs[:, None]\n",
    "assert (pca_sk.components_ - pca_components).sum() < 1e-6\n",
    "assert (pca_sk.explained_variance_ratio_ - pca_explained_var).sum() < 1e-6\n",
    "\n",
    "X_trans = pca_transform(X_norm, pca_components)\n",
    "X_trans_sk = pca_sk.fit_transform(X_norm)\n",
    "assert (X_trans - X_trans_sk).sum() < 1e-6\n",
    "\n",
    "assert (X_norm - pca_untransform(X_trans, pca_components)).sum() < 1e-6"
   ]
  },
  {
   "cell_type": "code",
   "execution_count": 1,
   "metadata": {},
   "outputs": [],
   "source": [
    "def pca_transform(X_norm, comp):\n",
    "    \"\"\"\n",
    "    Transform data based on PCA components\n",
    "\n",
    "    :param X: data of type np.array (N x F)\n",
    "    :param comp: principal components (k x F)\n",
    "    :return: transformed data\n",
    "    \"\"\"\n",
    "    return X_norm @ comp.T"
   ]
  },
  {
   "cell_type": "code",
   "execution_count": 2,
   "metadata": {},
   "outputs": [],
   "source": [
    "def pca_untransform(X_trans, comp):\n",
    "    X_norm = X_trans @ comp\n",
    "    return X_norm"
   ]
  }
 ],
 "metadata": {
  "kernelspec": {
   "display_name": "Python 3",
   "language": "python",
   "name": "python3"
  },
  "language_info": {
   "codemirror_mode": {
    "name": "ipython",
    "version": 3
   },
   "file_extension": ".py",
   "mimetype": "text/x-python",
   "name": "python",
   "nbconvert_exporter": "python",
   "pygments_lexer": "ipython3",
   "version": "3.10.12"
  }
 },
 "nbformat": 4,
 "nbformat_minor": 2
}
