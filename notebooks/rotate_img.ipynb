{
 "cells": [
  {
   "cell_type": "code",
   "execution_count": 19,
   "metadata": {},
   "outputs": [],
   "source": [
    "from argparse import ArgumentParser\n",
    "import numpy as np\n",
    "import cv2"
   ]
  },
  {
   "cell_type": "code",
   "execution_count": 90,
   "metadata": {},
   "outputs": [],
   "source": [
    "def bilinear(orig_coords, image):\n",
    "    fh = orig_coords[0]\n",
    "    fw = orig_coords[1]\n",
    "    top_h = int(fh)\n",
    "    bottom_h = int(fh + 1)\n",
    "    left_w = int(fw)\n",
    "    right_w = int(fw + 1)\n",
    "    H, W, C = image.shape\n",
    "\n",
    "    final_color = np.zeros((3))\n",
    "    if top_h >= 0 and bottom_h < H and left_w >= 0 and right_w < W:\n",
    "        top_w_color = (fw - left_w) * image[top_h, right_w] + (right_w - fw) * image[\n",
    "            top_h, left_w\n",
    "        ]\n",
    "        bottom_w_color = (fw - left_w) * image[bottom_h, right_w] + (\n",
    "            right_w - fw\n",
    "        ) * image[bottom_h, left_w]\n",
    "        final_color = (fh - top_h) * bottom_w_color + (bottom_h - fh) * top_w_color\n",
    "    return final_color"
   ]
  },
  {
   "cell_type": "code",
   "execution_count": 102,
   "metadata": {},
   "outputs": [],
   "source": [
    "def rotate(image, angle):\n",
    "    rad = np.deg2rad(angle)\n",
    "    cos = np.cos(rad)\n",
    "    sin = np.sin(rad)\n",
    "\n",
    "    # rotate clockwise by angle\n",
    "    R = np.array([[cos, sin], [-sin, cos]])\n",
    "\n",
    "    H, W, C = image.shape\n",
    "    orig_center = np.array([[H // 2], [W // 2]])  # 2x1\n",
    "\n",
    "    new_H = int(W * sin + H * cos)\n",
    "    new_W = int(W * cos + H * sin)\n",
    "    new_center = np.array([[new_H // 2], [new_W // 2]])  # 2x1\n",
    "\n",
    "    new_image = np.zeros((new_H, new_W, C))\n",
    "    for i in range(new_H):\n",
    "        for j in range(new_W):\n",
    "            new_coords = np.array([[i], [j]])\n",
    "\n",
    "            # find coordinate wrt center\n",
    "            new_coords_cen = new_coords - new_center\n",
    "\n",
    "            # invert coordinate to original space\n",
    "            coords = R.T @ new_coords_cen\n",
    "\n",
    "            # find coords in original image\n",
    "            orig_coords = coords + orig_center\n",
    "            # new_image[i, j, :] = image[min(int(orig_coords[0][0]), 399), min(int(orig_coords[1][0]), 399), :]\n",
    "\n",
    "            new_image[i, j] = bilinear(orig_coords, image)\n",
    "\n",
    "    return new_image"
   ]
  },
  {
   "cell_type": "code",
   "execution_count": 103,
   "metadata": {},
   "outputs": [
    {
     "name": "stdout",
     "output_type": "stream",
     "text": [
      "(400, 400, 3)\n"
     ]
    },
    {
     "data": {
      "text/plain": [
       "True"
      ]
     },
     "execution_count": 103,
     "metadata": {},
     "output_type": "execute_result"
    }
   ],
   "source": [
    "image = cv2.imread(\"test.jpeg\")\n",
    "print(image.shape)\n",
    "new_image = rotate(image, 45)\n",
    "cv2.imwrite(\"rotated.jpeg\", new_image)"
   ]
  },
  {
   "cell_type": "code",
   "execution_count": null,
   "metadata": {},
   "outputs": [],
   "source": []
  }
 ],
 "metadata": {
  "kernelspec": {
   "display_name": "Python 3",
   "language": "python",
   "name": "python3"
  },
  "language_info": {
   "codemirror_mode": {
    "name": "ipython",
    "version": 3
   },
   "file_extension": ".py",
   "mimetype": "text/x-python",
   "name": "python",
   "nbconvert_exporter": "python",
   "pygments_lexer": "ipython3",
   "version": "3.10.6"
  }
 },
 "nbformat": 4,
 "nbformat_minor": 2
}
