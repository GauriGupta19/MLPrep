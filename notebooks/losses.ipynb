{
 "cells": [
  {
   "cell_type": "code",
   "execution_count": 3,
   "metadata": {},
   "outputs": [
    {
     "data": {
      "text/plain": [
       "1.3356800935337296"
      ]
     },
     "execution_count": 3,
     "metadata": {},
     "output_type": "execute_result"
    }
   ],
   "source": [
    "import numpy as np\n",
    "\n",
    "def kl_loss(p, q):\n",
    " return sum(p[i] * np.log(p[i]/q[i]) for i in range(len(p)))\n",
    "\n",
    "p = [0.10, 0.40, 0.50]\n",
    "q = [0.80, 0.15, 0.05]\n",
    "kl_loss(p, q)"
   ]
  },
  {
   "cell_type": "markdown",
   "metadata": {},
   "source": [
    "### Binary Cross-entropy"
   ]
  },
  {
   "cell_type": "code",
   "execution_count": 5,
   "metadata": {},
   "outputs": [
    {
     "data": {
      "text/plain": [
       "4.085850409758004"
      ]
     },
     "execution_count": 5,
     "metadata": {},
     "output_type": "execute_result"
    }
   ],
   "source": [
    "import torch.nn as nn\n",
    "import torch\n",
    "\n",
    "def sigmoid(x):\n",
    "    return 1/(1+np.exp(-x))\n",
    "# Binary Cross Entropy loss for multi-label problem => use sigmoid.\n",
    "def binary_cross_entropy(y_pred, y):\n",
    "    y_pred = sigmoid(y_pred)\n",
    "    loss = -1* np.sum(y * np.log(y_pred) + (1-y) * np.log(1-y_pred))\n",
    "    return loss\n",
    "\n",
    "y_pred = np.array([1, 0, 0, 0, 0])\n",
    "y = np.array([0, 1, 1, 1, 0])\n",
    "binary_cross_entropy(y_pred, y)"
   ]
  },
  {
   "cell_type": "markdown",
   "metadata": {},
   "source": [
    "## Cross Entropy"
   ]
  },
  {
   "cell_type": "code",
   "execution_count": 8,
   "metadata": {},
   "outputs": [],
   "source": [
    "# Cross Entropy function.\n",
    "import numpy as np\n",
    "# Defining the softmax function\n",
    "def softmax(values):\n",
    "    exp_values = np.exp(values)\n",
    "    exp_values_sum = np.sum(exp_values)\n",
    "    return exp_values/exp_values_sum\n",
    "\n",
    "def cross_entropy_loss(y_pred, y):\n",
    "        y_pred = softmax(y_pred)\n",
    "        correct_logprobs = -np.log(y_pred[range(len(y_pred)), y])\n",
    "        loss = np.sum(correct_logprobs)\n",
    "        return 1.0/len(y_pred) * loss"
   ]
  },
  {
   "cell_type": "markdown",
   "metadata": {},
   "source": [
    "## Focal Loss "
   ]
  },
  {
   "cell_type": "markdown",
   "metadata": {},
   "source": [
    "Focal Loss is particularly useful in cases where there is a class imbalance. What Focal Loss does is that it makes it easier for the model to predict things without being 80-100% sure that this object is “something”. \n",
    "([refer](https://amaarora.github.io/posts/2020-06-29-FocalLoss.html))\n",
    "\n",
    "\n",
    "![image.png](../imgs/focal.png)"
   ]
  },
  {
   "cell_type": "code",
   "execution_count": 14,
   "metadata": {},
   "outputs": [
    {
     "data": {
      "text/plain": [
       "array([0.0002634 , 0.14748667])"
      ]
     },
     "execution_count": 14,
     "metadata": {},
     "output_type": "execute_result"
    }
   ],
   "source": [
    "def focal_loss(y_true, y_pred, alpha=0.25, gamma=2):\n",
    "    \"\"\"Focal loss is used to address the issue of the class imbalance problem. A modulation term applied to the Cross-Entropy loss function.\n",
    "    Parameters\n",
    "    ----------\n",
    "    alpha : float, optional\n",
    "        controls relative weight of false positives and false negatives. alpha > 0.5 penalises false negatives more than false positives, by default None\n",
    "    gamma_f : float, optional\n",
    "        focal parameter controls degree of down-weighting of easy examples, by default 2.\n",
    "    \"\"\"\n",
    "    epsilon = 1e-9  # Clip values to prevent division by zero error\n",
    "    y_pred = np.clip(y_pred, epsilon, 1.0 - epsilon)  # Clip to prevent numerical instability\n",
    "    # Calculate cross entropy\n",
    "    cross_entropy = -y_true * np.log(y_pred)\n",
    "    # Calculate focal weights\n",
    "    focal_weights = alpha * np.power(1 - y_pred, gamma)\n",
    "    # Combine focal weights with cross entropy\n",
    "    focal_loss = focal_weights * cross_entropy\n",
    "    # Sum along classes to get loss for each sample\n",
    "    focal_loss = np.sum(focal_loss, axis=-1)\n",
    "    return focal_loss\n",
    "\n",
    "y_true = np.array([[1, 0, 0], [0,1,0]])\n",
    "y_pred = np.array([[0.9, 0.1, 0], [0.4,0.3,0.3]])\n",
    "focal_loss(y_true, y_pred)\n"
   ]
  },
  {
   "cell_type": "markdown",
   "metadata": {},
   "source": [
    "## CLIP loss"
   ]
  },
  {
   "cell_type": "code",
   "execution_count": 2,
   "metadata": {},
   "outputs": [],
   "source": [
    "# Calculating the Loss\n",
    "def clip_loss(text_embeddings, image_embeddings):\n",
    "    logits = (text_embeddings @ image_embeddings.T) / self.temperature\n",
    "    images_similarity = image_embeddings @ image_embeddings.T\n",
    "    texts_similarity = text_embeddings @ text_embeddings.T\n",
    "    targets = F.softmax(\n",
    "        (images_similarity + texts_similarity) / 2 * self.temperature, dim=-1\n",
    "    )\n",
    "    texts_loss = cross_entropy(logits, targets, reduction='none')\n",
    "    images_loss = cross_entropy(logits.T, targets.T, reduction='none')\n",
    "    loss =  (images_loss + texts_loss) / 2.0 # shape: (batch_size)\n",
    "    return loss.mean()"
   ]
  },
  {
   "cell_type": "code",
   "execution_count": null,
   "metadata": {},
   "outputs": [],
   "source": []
  }
 ],
 "metadata": {
  "kernelspec": {
   "display_name": "Python 3",
   "language": "python",
   "name": "python3"
  },
  "language_info": {
   "codemirror_mode": {
    "name": "ipython",
    "version": 3
   },
   "file_extension": ".py",
   "mimetype": "text/x-python",
   "name": "python",
   "nbconvert_exporter": "python",
   "pygments_lexer": "ipython3",
   "version": "3.10.6"
  }
 },
 "nbformat": 4,
 "nbformat_minor": 2
}
