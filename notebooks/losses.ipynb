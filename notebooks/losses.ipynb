{
 "cells": [
  {
   "cell_type": "code",
   "execution_count": 3,
   "metadata": {},
   "outputs": [
    {
     "data": {
      "text/plain": [
       "1.3356800935337296"
      ]
     },
     "execution_count": 3,
     "metadata": {},
     "output_type": "execute_result"
    }
   ],
   "source": [
    "import numpy as np\n",
    "\n",
    "def kl_loss(p, q):\n",
    " return sum(p[i] * np.log(p[i]/q[i]) for i in range(len(p)))\n",
    "\n",
    "p = [0.10, 0.40, 0.50]\n",
    "q = [0.80, 0.15, 0.05]\n",
    "kl_loss(p, q)"
   ]
  },
  {
   "cell_type": "code",
   "execution_count": 5,
   "metadata": {},
   "outputs": [
    {
     "data": {
      "text/plain": [
       "4.085850409758004"
      ]
     },
     "execution_count": 5,
     "metadata": {},
     "output_type": "execute_result"
    }
   ],
   "source": [
    "import torch.nn as nn\n",
    "import torch\n",
    "\n",
    "def sigmoid(x):\n",
    "    return 1/(1+np.exp(-x))\n",
    "# Binary Cross Entropy loss for multi-label problem => use sigmoid.\n",
    "def binary_cross_entropy(y_pred, y):\n",
    "    y_pred = sigmoid(y_pred)\n",
    "    loss = -1* np.sum(y * np.log(y_pred) + (1-y) * np.log(1-y_pred))\n",
    "    return loss\n",
    "\n",
    "y_pred = np.array([1, 0, 0, 0, 0])\n",
    "y = np.array([0, 1, 1, 1, 0])\n",
    "binary_cross_entropy(y_pred, y)"
   ]
  },
  {
   "cell_type": "code",
   "execution_count": 8,
   "metadata": {},
   "outputs": [],
   "source": [
    "# Cross Entropy function.\n",
    "import numpy as np\n",
    "# Defining the softmax function\n",
    "def softmax(values):\n",
    "    exp_values = np.exp(values)\n",
    "    exp_values_sum = np.sum(exp_values)\n",
    "    return exp_values/exp_values_sum\n",
    "\n",
    "def cross_entropy_loss(y_pred, y):\n",
    "        y_pred = softmax(y_pred)\n",
    "        correct_logprobs = -np.log(y_pred[range(len(y_pred)), y])\n",
    "        loss = np.sum(correct_logprobs)\n",
    "        return 1.0/len(y_pred) * loss"
   ]
  },
  {
   "cell_type": "markdown",
   "metadata": {},
   "source": [
    "## Focal Loss \n",
    "Focal Loss is particularly useful in cases where there is a class imbalance. What Focal Loss does is that it makes it easier for the model to predict things without being 80-100% sure that this object is “something”. ([refer](https://amaarora.github.io/posts/2020-06-29-FocalLoss.html))\n",
    "![image.png](../imgs/focal.png)"
   ]
  },
  {
   "cell_type": "code",
   "execution_count": null,
   "metadata": {},
   "outputs": [],
   "source": [
    "def focal_loss(alpha=None, gamma_f=2.):\n",
    "    \"\"\"Focal loss is used to address the issue of the class imbalance problem. A modulation term applied to the Cross-Entropy loss function.\n",
    "    Parameters\n",
    "    ----------\n",
    "    alpha : float, optional\n",
    "        controls relative weight of false positives and false negatives. alpha > 0.5 penalises false negatives more than false positives, by default None\n",
    "    gamma_f : float, optional\n",
    "        focal parameter controls degree of down-weighting of easy examples, by default 2.\n",
    "    \"\"\"\n",
    "    def loss_function(y_true, y_pred):\n",
    "        axis = identify_axis(y_true.get_shape())\n",
    "        # Clip values to prevent division by zero error\n",
    "        epsilon = K.epsilon()\n",
    "        y_pred = K.clip(y_pred, epsilon, 1. - epsilon)\n",
    "        cross_entropy = -y_true * K.log(y_pred)\n",
    "\n",
    "        if alpha is not None:\n",
    "            alpha_weight = np.array(alpha, dtype=np.float32)\n",
    "            focal_loss = alpha_weight * K.pow(1 - y_pred, gamma_f) * cross_entropy\n",
    "        else:\n",
    "            focal_loss = K.pow(1 - y_pred, gamma_f) * cross_entropy\n",
    "\n",
    "        focal_loss = K.mean(K.sum(focal_loss, axis=[-1]))\n",
    "        return focal_loss\n",
    "        \n",
    "    return loss_function"
   ]
  },
  {
   "cell_type": "code",
   "execution_count": null,
   "metadata": {},
   "outputs": [],
   "source": []
  }
 ],
 "metadata": {
  "kernelspec": {
   "display_name": "Python 3",
   "language": "python",
   "name": "python3"
  },
  "language_info": {
   "codemirror_mode": {
    "name": "ipython",
    "version": 3
   },
   "file_extension": ".py",
   "mimetype": "text/x-python",
   "name": "python",
   "nbconvert_exporter": "python",
   "pygments_lexer": "ipython3",
   "version": "3.10.6"
  }
 },
 "nbformat": 4,
 "nbformat_minor": 2
}
