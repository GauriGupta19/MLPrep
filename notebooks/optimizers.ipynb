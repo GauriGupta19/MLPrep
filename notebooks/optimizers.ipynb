{
 "cells": [
  {
   "cell_type": "code",
   "execution_count": 1,
   "metadata": {},
   "outputs": [],
   "source": [
    "class Optimizers:\n",
    "  def __init__(self, learning_rate):\n",
    "    self.learning_rate = learning_rate\n",
    "\n",
    "  def SGD(self,  params, grads):\n",
    "    \"\"\" Stochastic gradient descent \"\"\"\n",
    "    updated_params = []\n",
    "\n",
    "    for param, grad  in zip(params, grads):\n",
    "        delta = self.learning_rate * grad\n",
    "        param -= delta\n",
    "        updated_params.apppend(param)\n",
    "    return updated_params"
   ]
  },
  {
   "cell_type": "code",
   "execution_count": 2,
   "metadata": {},
   "outputs": [],
   "source": [
    "class Optimizers:\n",
    "\n",
    "    def __init__(self, num_weight, learning_rate, mom_coeff):\n",
    "        self.previous_updates = [0] * num_weight\n",
    "        self.learning_rate = learning_rate\n",
    "        self.mom_coeff = mom_coeff\n",
    "\n",
    "    def SGDMomentum(self, params, grads):\n",
    "      \"\"\"Stochastic gradient descent with momentum on mini-batches. \"\"\"\n",
    "      updated_params,  prevs = [], []\n",
    "      for param, grad, prev_update in zip(params, grads, self.previous_updates):\n",
    "          delta = self.learning_rate * grad - self.mom_coeff * prev_update\n",
    "          param -= delta\n",
    "          prevs.append(delta)\n",
    "          updated_params.apppend(param)\n",
    "      self.previous_updates = prevs\n",
    "\n",
    "      return updated_params"
   ]
  },
  {
   "cell_type": "code",
   "execution_count": 3,
   "metadata": {},
   "outputs": [],
   "source": [
    "class Optimizers:\n",
    "\n",
    "    def __init__(self, num_weight, learning_rate):\n",
    "        self.previous_updates = [0] * num_weight\n",
    "        self.cache = [0] * num_weight\n",
    "        self.learning_rate = learning_rate\n",
    "\n",
    "    def AdaGrad(self, params, grads):\n",
    "      \"\"\" AdaGrad adaptive optimization algorithm \"\"\"\n",
    "      updated_params = []\n",
    "      for i, (param,grad) in enumerate(zip(params, grads)):\n",
    "        self.cache[i] += grad **2\n",
    "        param += -self.learning_rate * grad / (np.sqrt(self.cache[i]) + 1e-6)\n",
    "        updated_params.apppend(param)\n",
    "\n",
    "      return updated_params"
   ]
  },
  {
   "cell_type": "code",
   "execution_count": 4,
   "metadata": {},
   "outputs": [],
   "source": [
    "class Optimizers:\n",
    "\n",
    "    def __init__(self, num_weight, learning_rate):\n",
    "        self.cache_rmsprop = [0] * num_weight\n",
    "        self.learning_rate = learning_rate\n",
    "\n",
    "    def RMSprop(self, params, grads, decay_rate = 0.9):\n",
    "      \"\"\" RMSprop adaptive optimization algorithm \"\"\"\n",
    "      updated_params = []\n",
    "      for i, (param, grad) in enumerate(zip(params, grads)):\n",
    "        self.cache_rmsprop[i] = decay_rate * self.cache_rmsprop[i] + (1-decay_rate) * grad **2\n",
    "        param += - self.learning_rate * grad / (np.sqrt(self.cache_rmsprop[i])+ 1e-6)\n",
    "        updated_params.apppend(param)\n",
    "\n",
    "      return updated_params"
   ]
  },
  {
   "cell_type": "code",
   "execution_count": 5,
   "metadata": {},
   "outputs": [],
   "source": [
    "class Optimizers:\n",
    "\n",
    "    def __init__(self, num_weight, learning_rate):\n",
    "        self.m = [0] * num_weight\n",
    "        self.v = [0] * num_weight\n",
    "        self.t = 1\n",
    "        self.learning_rate = learning_rate\n",
    "\n",
    "    def Adam(self, params, grads, beta1 = 0.9,beta2 = 0.999):\n",
    "        \"\"\" Adam optimizer, bias correction is implemented. \"\"\"\n",
    "        updated_params = []\n",
    "        for  i, (param, grad) in enumerate(zip(params, grads)):\n",
    "          self.m[i] = beta1 * self.m[i] + (1-beta1) * grad\n",
    "          self.v[i] = beta2 * self.v[i] + (1-beta2) * grad **2\n",
    "          m_corrected = self.m[i] / (1-beta1**self.t)\n",
    "          v_corrected = self.v[i] / (1-beta2**self.t)\n",
    "          param += -self.learning_rate * m_corrected / (np.sqrt(v_corrected) + 1e-8)\n",
    "          updated_params.apppend(param)\n",
    "\n",
    "        self.t +=1\n",
    "        return updated_params"
   ]
  },
  {
   "cell_type": "code",
   "execution_count": null,
   "metadata": {},
   "outputs": [],
   "source": []
  }
 ],
 "metadata": {
  "kernelspec": {
   "display_name": "Python 3",
   "language": "python",
   "name": "python3"
  },
  "language_info": {
   "codemirror_mode": {
    "name": "ipython",
    "version": 3
   },
   "file_extension": ".py",
   "mimetype": "text/x-python",
   "name": "python",
   "nbconvert_exporter": "python",
   "pygments_lexer": "ipython3",
   "version": "3.10.12"
  }
 },
 "nbformat": 4,
 "nbformat_minor": 2
}
