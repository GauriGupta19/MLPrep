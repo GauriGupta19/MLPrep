{
 "cells": [
  {
   "attachments": {},
   "cell_type": "markdown",
   "metadata": {},
   "source": [
    "# Convolution "
   ]
  },
  {
   "attachments": {},
   "cell_type": "markdown",
   "metadata": {},
   "source": [
    "## 1D convolution "
   ]
  },
  {
   "cell_type": "code",
   "execution_count": 3,
   "metadata": {},
   "outputs": [],
   "source": [
    "def convolve(signal, kernel):\n",
    "    output = []\n",
    "    kernel_size = len(kernel)\n",
    "    padding = kernel_size // 2 # assume zero padding\n",
    "    padded_signal = [0] * padding + signal + [0] * padding\n",
    "    \n",
    "    for i in range(padding, len(signal) + padding):\n",
    "        sum = 0\n",
    "        for j in range(kernel_size):\n",
    "            sum += kernel[j] * padded_signal[i - padding + j]\n",
    "        output.append(sum)\n",
    "    \n",
    "    return output\n"
   ]
  },
  {
   "cell_type": "code",
   "execution_count": 4,
   "metadata": {},
   "outputs": [
    {
     "name": "stdout",
     "output_type": "stream",
     "text": [
      "[-2, -2, -2, -2, -2, 5]\n"
     ]
    }
   ],
   "source": [
    "signal = [1, 2, 3, 4, 5, 6]\n",
    "kernel = [1, 0, -1]\n",
    "output = convolve(signal, kernel)\n",
    "print(output)\n"
   ]
  },
  {
   "cell_type": "markdown",
   "metadata": {},
   "source": [
    "## 2D convolution "
   ]
  },
  {
   "cell_type": "code",
   "execution_count": 7,
   "metadata": {},
   "outputs": [],
   "source": [
    "import numpy as np\n",
    "\n",
    "def convolution(image, kernel):\n",
    "    # get the size of the input image and kernel\n",
    "    (image_height, image_width, image_channels) = image.shape\n",
    "    (kernel_height, kernel_width, kernel_channels) = kernel.shape\n",
    "    \n",
    "    # calculate the padding needed for 'same' convolution\n",
    "    pad_h = (kernel_height - 1) // 2\n",
    "    pad_w = (kernel_width - 1) // 2\n",
    "    \n",
    "    # pad the input image with zeros\n",
    "    padded_image = np.pad(image, ((pad_h, pad_h), (pad_w, pad_w), (0, 0)), 'constant')\n",
    "    \n",
    "    # create an empty output tensor\n",
    "    output_height = image_height\n",
    "    output_width = image_width\n",
    "    output_channels = kernel_channels\n",
    "    output = np.zeros((output_height, output_width, output_channels))\n",
    "    \n",
    "    # perform the convolution operation\n",
    "    for i in range(output_height):\n",
    "        for j in range(output_width):\n",
    "            for k in range(output_channels):\n",
    "                output[i, j, k] = np.sum(kernel[:, :, k:k+1] * \n",
    "                                         padded_image[i:i+kernel_height, j:j+kernel_width, :])\n",
    "    \n",
    "    return output\n"
   ]
  },
  {
   "cell_type": "code",
   "execution_count": 8,
   "metadata": {},
   "outputs": [
    {
     "data": {
      "text/plain": [
       "(32, 32, 3)"
      ]
     },
     "execution_count": 8,
     "metadata": {},
     "output_type": "execute_result"
    }
   ],
   "source": [
    "image = np.random.randn(32,32,10)\n",
    "kernel = np.random.randn(3,3,3)\n",
    "out = convolution(image, kernel)\n",
    "out.shape"
   ]
  },
  {
   "cell_type": "code",
   "execution_count": 10,
   "metadata": {},
   "outputs": [],
   "source": [
    "# create an example image and kernel\n",
    "image = np.array([[[1, 2], [3, 4]], [[5, 6], [7, 8]], [[9, 10], [11, 12]]])\n",
    "kernel = np.array([[[1, 0], [0, -1]], [[0, 1], [-1, 0]]])\n",
    "\n",
    "output = convolution(image, kernel)"
   ]
  },
  {
   "cell_type": "code",
   "execution_count": 9,
   "metadata": {},
   "outputs": [],
   "source": [
    "import numpy as np\n",
    "\n",
    "def convolution(image, kernel, padding=0, stride=1):\n",
    "    # Get dimensions of image and kernel\n",
    "    (image_height, image_width, image_channels) = image.shape\n",
    "    (kernel_height, kernel_width, kernel_channels) = kernel.shape\n",
    "\n",
    "    # Calculate the output dimensions\n",
    "    output_height = (image_height - kernel_height + 2 * padding) // stride + 1\n",
    "    output_width = (image_width - kernel_width + 2 * padding) // stride + 1\n",
    "    output_channels = kernel_channels\n",
    "\n",
    "    # Pad the image\n",
    "    padded_image = np.pad(image, ((padding, padding), (padding, padding), (0, 0)), mode='constant')\n",
    "    \n",
    "    # Initialize the output matrix\n",
    "    output = np.zeros((output_height, output_width, output_channels))\n",
    "\n",
    "    # Perform the convolution\n",
    "    for i in range(output_height):\n",
    "        for j in range(output_width):\n",
    "            for k in range(output_channels):\n",
    "              h_start = i * stride\n",
    "              h_end = h_start + kernel_height\n",
    "              w_start = j * stride\n",
    "              w_end = w_start + kernel_width\n",
    "              output[i, j, k] = np.sum(kernel[:, :, k:k+1] * padded_image[h_start:h_end, w_start:w_end, :])\n",
    "\n",
    "    return output"
   ]
  },
  {
   "cell_type": "code",
   "execution_count": 11,
   "metadata": {},
   "outputs": [
    {
     "name": "stdout",
     "output_type": "stream",
     "text": [
      "Result of convolution:\n",
      "(17, 4, 3)\n"
     ]
    }
   ],
   "source": [
    "\n",
    "image = np.random.randn(32,5,10)\n",
    "kernel = np.random.randn(3,3,3)\n",
    "padding = 2\n",
    "stride = 2\n",
    "\n",
    "result = convolution(image, kernel, padding, stride)\n",
    "print(\"Result of convolution:\")\n",
    "print(result.shape)\n"
   ]
  },
  {
   "cell_type": "code",
   "execution_count": null,
   "metadata": {},
   "outputs": [],
   "source": [
    "import numpy as np\n",
    "\n",
    "def convolution(image, kernel, padding=0, stride=1, groups=1):\n",
    "    # Get dimensions of image and kernel\n",
    "    (image_height, image_width, image_channels) = image.shape\n",
    "    (kernel_height, kernel_width, kernel_channels) = kernel.shape\n",
    "\n",
    "    # Calculate the output dimensions\n",
    "    output_height = (image_height - kernel_height + 2 * padding) // stride + 1\n",
    "    output_width = (image_width - kernel_width + 2 * padding) // stride + 1\n",
    "    output_channels = kernel_channels\n",
    "\n",
    "    # Pad the image\n",
    "    padded_image = np.pad(image, ((padding, padding), (padding, padding), (0, 0)), mode='constant')\n",
    "\n",
    "    # Initialize the output matrix\n",
    "    output = np.zeros((output_height, output_width, output_channels))\n",
    "\n",
    "    # Perform the convolution\n",
    "    for g in range(groups):\n",
    "        # Divide input image and kernel into groups\n",
    "        image_group = padded_image[:, :, g * (image_channels // groups):(g + 1) * (image_channels // groups)]\n",
    "        kernel_group = kernel[:, :, g * (kernel_channels // groups):(g + 1) * (kernel_channels // groups)]\n",
    "\n",
    "        for i in range(output_height):\n",
    "            for j in range(output_width):\n",
    "                for k in range(output_channels // groups):\n",
    "                    h_start = i * stride\n",
    "                    h_end = h_start + kernel_height\n",
    "                    w_start = j * stride\n",
    "                    w_end = w_start + kernel_width\n",
    "                    output[i, j, g * (output_channels // groups) + k] = np.sum(\n",
    "                        kernel_group[:, :, k] * image_group[h_start:h_end, w_start:w_end])\n",
    "\n",
    "    return output\n"
   ]
  },
  {
   "cell_type": "markdown",
   "metadata": {},
   "source": [
    "## 3D Conv"
   ]
  },
  {
   "cell_type": "code",
   "execution_count": 1,
   "metadata": {},
   "outputs": [],
   "source": [
    "import torch\n",
    "import torch.nn as nn\n",
    "from einops.layers.torch import Rearrange"
   ]
  },
  {
   "cell_type": "code",
   "execution_count": 2,
   "metadata": {},
   "outputs": [],
   "source": [
    "class Conv3DLayer(nn.Module):\n",
    "    def __init__(self, in_dim, out_dim, n_frames):\n",
    "        super().__init__()\n",
    "\n",
    "        self.to_3d = Rearrange('(b t) c h w -> b c t h w', t=n_frames)\n",
    "        self.to_2d = Rearrange('b c t h w -> (b t) c h w')\n",
    "\n",
    "        k, p = (3, 1, 1), (1, 0, 0)\n",
    "        self.block1 = nn.Sequential(\n",
    "            nn.GroupNorm(32, in_dim),\n",
    "            nn.SiLU(),\n",
    "            nn.Conv3d(in_dim, out_dim, kernel_size=k, stride=1, padding=p)\n",
    "        )\n",
    "        self.block2 = nn.Sequential(\n",
    "            nn.GroupNorm(32, out_dim),\n",
    "            nn.SiLU(),\n",
    "            nn.Conv3d(out_dim, out_dim, kernel_size=k, stride=1, padding=p)\n",
    "        )\n",
    "\n",
    "        self.alpha = nn.Parameter(torch.ones(1))\n",
    "\n",
    "    def forward(self, x):\n",
    "        h = self.to_3d(x)\n",
    "\n",
    "        h = self.block1(h)\n",
    "        h = self.block2(h)\n",
    "\n",
    "        h = self.to_2d(h)\n",
    "\n",
    "        with torch.no_grad():\n",
    "            self.alpha.clamp_(0, 1)\n",
    "\n",
    "        out = self.alpha * x + (1 - self.alpha) * h\n",
    "        return out"
   ]
  },
  {
   "cell_type": "code",
   "execution_count": null,
   "metadata": {},
   "outputs": [],
   "source": []
  }
 ],
 "metadata": {
  "kernelspec": {
   "display_name": "Python 3",
   "language": "python",
   "name": "python3"
  },
  "language_info": {
   "codemirror_mode": {
    "name": "ipython",
    "version": 3
   },
   "file_extension": ".py",
   "mimetype": "text/x-python",
   "name": "python",
   "nbconvert_exporter": "python",
   "pygments_lexer": "ipython3",
   "version": "3.10.6"
  },
  "orig_nbformat": 4
 },
 "nbformat": 4,
 "nbformat_minor": 2
}
