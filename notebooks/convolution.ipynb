{
 "cells": [
  {
   "attachments": {},
   "cell_type": "markdown",
   "metadata": {},
   "source": [
    "# Convolution "
   ]
  },
  {
   "attachments": {},
   "cell_type": "markdown",
   "metadata": {},
   "source": [
    "## 2D convolution "
   ]
  },
  {
   "cell_type": "code",
   "execution_count": 3,
   "metadata": {},
   "outputs": [],
   "source": [
    "def convolve(signal, kernel):\n",
    "    output = []\n",
    "    kernel_size = len(kernel)\n",
    "    padding = kernel_size // 2 # assume zero padding\n",
    "    padded_signal = [0] * padding + signal + [0] * padding\n",
    "    \n",
    "    for i in range(padding, len(signal) + padding):\n",
    "        sum = 0\n",
    "        for j in range(kernel_size):\n",
    "            sum += kernel[j] * padded_signal[i - padding + j]\n",
    "        output.append(sum)\n",
    "    \n",
    "    return output\n"
   ]
  },
  {
   "cell_type": "code",
   "execution_count": 4,
   "metadata": {},
   "outputs": [
    {
     "name": "stdout",
     "output_type": "stream",
     "text": [
      "[-2, -2, -2, -2, -2, 5]\n"
     ]
    }
   ],
   "source": [
    "signal = [1, 2, 3, 4, 5, 6]\n",
    "kernel = [1, 0, -1]\n",
    "output = convolve(signal, kernel)\n",
    "print(output)\n"
   ]
  },
  {
   "cell_type": "markdown",
   "metadata": {},
   "source": [
    "## 3D convolution "
   ]
  },
  {
   "cell_type": "code",
   "execution_count": 7,
   "metadata": {},
   "outputs": [],
   "source": [
    "import numpy as np\n",
    "\n",
    "def convolution(image, kernel):\n",
    "    # get the size of the input image and kernel\n",
    "    (image_height, image_width, image_channels) = image.shape\n",
    "    (kernel_height, kernel_width, kernel_channels) = kernel.shape\n",
    "    \n",
    "    # calculate the padding needed for 'same' convolution\n",
    "    pad_h = (kernel_height - 1) // 2\n",
    "    pad_w = (kernel_width - 1) // 2\n",
    "    \n",
    "    # pad the input image with zeros\n",
    "    padded_image = np.pad(image, ((pad_h, pad_h), (pad_w, pad_w), (0, 0)), 'constant')\n",
    "    \n",
    "    # create an empty output tensor\n",
    "    output_height = image_height\n",
    "    output_width = image_width\n",
    "    output_channels = kernel_channels\n",
    "    output = np.zeros((output_height, output_width, output_channels))\n",
    "    \n",
    "    # perform the convolution operation\n",
    "    for i in range(output_height):\n",
    "        for j in range(output_width):\n",
    "            for k in range(output_channels):\n",
    "                output[i, j, k] = np.sum(kernel[:, :, k:k+1] * padded_image[i:i+kernel_height, j:j+kernel_width, :])\n",
    "    \n",
    "    return output\n"
   ]
  },
  {
   "cell_type": "code",
   "execution_count": 8,
   "metadata": {},
   "outputs": [
    {
     "data": {
      "text/plain": [
       "(32, 32, 3)"
      ]
     },
     "execution_count": 8,
     "metadata": {},
     "output_type": "execute_result"
    }
   ],
   "source": [
    "image = np.random.randn(32,32,10)\n",
    "kernel = np.random.randn(3,3,3)\n",
    "out = convolution(image, kernel)\n",
    "out.shape"
   ]
  },
  {
   "cell_type": "code",
   "execution_count": 10,
   "metadata": {},
   "outputs": [],
   "source": [
    "# create an example image and kernel\n",
    "image = np.array([[[1, 2], [3, 4]], [[5, 6], [7, 8]], [[9, 10], [11, 12]]])\n",
    "kernel = np.array([[[1, 0], [0, -1]], [[0, 1], [-1, 0]]])\n",
    "\n",
    "output = convolution(image, kernel)"
   ]
  },
  {
   "cell_type": "code",
   "execution_count": 11,
   "metadata": {},
   "outputs": [],
   "source": [
    "import numpy as np\n",
    "\n",
    "def convolution(image, kernel, padding=0, stride=1):\n",
    "    # Get dimensions of image and kernel\n",
    "    (image_height, image_width, image_channels) = image.shape\n",
    "    (kernel_height, kernel_width, kernel_channels) = kernel.shape\n",
    "\n",
    "    # Calculate the output dimensions\n",
    "    output_height = (image_height - kernel_height + 2 * padding) // stride + 1\n",
    "    output_width = (image_width - kernel_width + 2 * padding) // stride + 1\n",
    "    output_channels = kernel_channels\n",
    "\n",
    "    # Pad the image\n",
    "    padded_image = np.pad(image, padding, mode='constant')\n",
    "\n",
    "    # Initialize the output matrix\n",
    "    output = np.zeros((output_height, output_width, output_channels))\n",
    "\n",
    "    # Perform the convolution\n",
    "    for i in range(output_height):\n",
    "        for j in range(output_width):\n",
    "            for k in range(output_channels):\n",
    "              w_start = i * stride\n",
    "              w_end = w_start + kernel_width\n",
    "              h_start = j * stride\n",
    "              h_end = h_start + kernel_height\n",
    "              output[i, j, k] = np.sum(kernel[:, :, k:k+1] * padded_image[h_start:h_end, w_start:w_end, :])\n",
    "\n",
    "    return output"
   ]
  },
  {
   "cell_type": "code",
   "execution_count": 12,
   "metadata": {},
   "outputs": [
    {
     "name": "stdout",
     "output_type": "stream",
     "text": [
      "Result of convolution:\n",
      "(32, 32, 3)\n"
     ]
    }
   ],
   "source": [
    "\n",
    "image = np.random.randn(32,32,10)\n",
    "kernel = np.random.randn(3,3,3)\n",
    "padding = 1\n",
    "stride = 1\n",
    "\n",
    "result = convolution(image, kernel, padding, stride)\n",
    "print(\"Result of convolution:\")\n",
    "print(result.shape)\n"
   ]
  },
  {
   "cell_type": "code",
   "execution_count": null,
   "metadata": {},
   "outputs": [],
   "source": []
  }
 ],
 "metadata": {
  "kernelspec": {
   "display_name": "Python 3",
   "language": "python",
   "name": "python3"
  },
  "language_info": {
   "codemirror_mode": {
    "name": "ipython",
    "version": 3
   },
   "file_extension": ".py",
   "mimetype": "text/x-python",
   "name": "python",
   "nbconvert_exporter": "python",
   "pygments_lexer": "ipython3",
   "version": "3.10.12"
  },
  "orig_nbformat": 4
 },
 "nbformat": 4,
 "nbformat_minor": 2
}
