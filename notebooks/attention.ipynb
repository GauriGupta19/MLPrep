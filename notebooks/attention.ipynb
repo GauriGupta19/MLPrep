{
 "cells": [
  {
   "cell_type": "code",
   "execution_count": 5,
   "metadata": {},
   "outputs": [],
   "source": [
    "import torch.nn as nn\n",
    "import torch\n",
    "\n",
    "class SelfAttention(nn.Module):\n",
    "\n",
    "    def __init__(self, d_in, d_out_kq, d_out_v):\n",
    "        super().__init__()\n",
    "        self.d_out_kq = d_out_kq\n",
    "\n",
    "        self.W_query = nn.Parameter(torch.rand(d_in, d_out_kq))\n",
    "        self.W_key   = nn.Parameter(torch.rand(d_in, d_out_kq))\n",
    "        self.W_value = nn.Parameter(torch.rand(d_in, d_out_v))\n",
    "\n",
    "    def forward(self, x):\n",
    "        keys = x @ self.W_key\n",
    "        queries = x @ self.W_query\n",
    "        values = x @ self.W_value\n",
    "\n",
    "        attn_scores = queries @ keys.T  # unnormalized attention weights\n",
    "\n",
    "        # no mask\n",
    "        attn_weights = torch.softmax(\n",
    "            attn_scores / self.d_out_kq**0.5, dim=-1\n",
    "        )\n",
    "\n",
    "        # # causal mask\n",
    "        seq_len = attn_weights.shape[0] # seq_len x seq_len\n",
    "        mask = torch.triu(torch.ones(seq_len, seq_len), diagonal=1)\n",
    "        masked = attn_scores.masked_fill(mask.bool(), -torch.inf)\n",
    "        attn_weights = torch.softmax(masked / d_out_kq**0.5, dim=1)\n",
    "\n",
    "\n",
    "        context_vec = attn_weights @ values\n",
    "        return context_vec"
   ]
  },
  {
   "cell_type": "code",
   "execution_count": 6,
   "metadata": {},
   "outputs": [],
   "source": [
    "# sentence = 'Life is short, eat dessert first'\n",
    "# dc = {s:i for i,s\n",
    "#       in enumerate(sorted(sentence.replace(',', '').split()))}\n",
    "\n",
    "# print(dc)\n",
    "# sentence_int = torch.tensor(\n",
    "#     [dc[s] for s in sentence.replace(',', '').split()]\n",
    "# )\n",
    "# print(sentence_int)\n",
    "# vocab_size = 50_000\n",
    "\n",
    "# torch.manual_seed(123)\n",
    "# embed = torch.nn.Embedding(vocab_size, 3)\n",
    "# embedded_sentence = embed(sentence_int).detach()\n",
    "\n",
    "# print(embedded_sentence)\n",
    "# print(embedded_sentence.shape)"
   ]
  },
  {
   "cell_type": "code",
   "execution_count": 7,
   "metadata": {},
   "outputs": [
    {
     "name": "stdout",
     "output_type": "stream",
     "text": [
      "torch.Size([6, 4])\n"
     ]
    }
   ],
   "source": [
    "embedded_sentence = torch.randn((6,3))\n",
    "\n",
    "# reduce d_out_v from 4 to 1, because we have 4 heads\n",
    "d_in, d_out_kq, d_out_v = 3, 2, 4\n",
    "\n",
    "sa = SelfAttention(d_in, d_out_kq, d_out_v)\n",
    "print(sa(embedded_sentence).shape)\n"
   ]
  },
  {
   "cell_type": "code",
   "execution_count": 8,
   "metadata": {},
   "outputs": [],
   "source": [
    "class MultiHeadAttentionWrapper(nn.Module):\n",
    "\n",
    "    def __init__(self, d_in, d_out_kq, d_out_v, num_heads):\n",
    "        super().__init__()\n",
    "        self.heads = nn.ModuleList(\n",
    "            [SelfAttention(d_in, d_out_kq//num_heads, d_out_v//num_heads)\n",
    "             for _ in range(num_heads)]\n",
    "        )\n",
    "\n",
    "    def forward(self, x):\n",
    "        return torch.cat([head(x) for head in self.heads], dim=-1)"
   ]
  },
  {
   "cell_type": "code",
   "execution_count": 9,
   "metadata": {},
   "outputs": [
    {
     "name": "stdout",
     "output_type": "stream",
     "text": [
      "tensor([[-0.4987, -1.2924, -1.0457, -1.4010],\n",
      "        [-0.3102, -0.9339, -0.7622, -0.8023],\n",
      "        [-0.1753, -0.5300, -0.4057, -0.4976],\n",
      "        [-0.4339, -0.9364, -0.8478, -1.1181],\n",
      "        [-0.2924, -0.6129, -0.6661, -0.9779],\n",
      "        [ 0.3994,  0.6958,  1.1481,  2.2647]], grad_fn=<CatBackward0>)\n",
      "context_vecs.shape: torch.Size([6, 4])\n"
     ]
    }
   ],
   "source": [
    "torch.manual_seed(123)\n",
    "\n",
    "block_size = embedded_sentence.shape[1]\n",
    "mha = MultiHeadAttentionWrapper(\n",
    "    d_in, d_out_kq, d_out_v, num_heads=2\n",
    ")\n",
    "\n",
    "context_vecs = mha(embedded_sentence)\n",
    "\n",
    "print(context_vecs)\n",
    "print(\"context_vecs.shape:\", context_vecs.shape)\n"
   ]
  },
  {
   "cell_type": "code",
   "execution_count": null,
   "metadata": {},
   "outputs": [],
   "source": []
  }
 ],
 "metadata": {
  "kernelspec": {
   "display_name": "Python 3",
   "language": "python",
   "name": "python3"
  },
  "language_info": {
   "codemirror_mode": {
    "name": "ipython",
    "version": 3
   },
   "file_extension": ".py",
   "mimetype": "text/x-python",
   "name": "python",
   "nbconvert_exporter": "python",
   "pygments_lexer": "ipython3",
   "version": "3.10.12"
  }
 },
 "nbformat": 4,
 "nbformat_minor": 2
}
