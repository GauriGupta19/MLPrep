{
 "cells": [
  {
   "cell_type": "code",
   "execution_count": 2,
   "metadata": {},
   "outputs": [
    {
     "data": {
      "text/plain": [
       "1.3356800935337296"
      ]
     },
     "execution_count": 2,
     "metadata": {},
     "output_type": "execute_result"
    }
   ],
   "source": [
    "import numpy as np\n",
    "\n",
    "def kl_divergence(p, q):\n",
    " return sum(p[i] * np.log(p[i]/q[i]) for i in range(len(p)))\n",
    "\n",
    "\n",
    "p = [0.10, 0.40, 0.50]\n",
    "q = [0.80, 0.15, 0.05]\n",
    "kl_divergence(p, q)"
   ]
  },
  {
   "cell_type": "code",
   "execution_count": 3,
   "metadata": {},
   "outputs": [],
   "source": [
    "import numpy as np\n",
    "\n",
    "# Defining the softmax function\n",
    "def softmax(values):\n",
    "    exp_values = np.exp(values)\n",
    "    exp_values_sum = np.sum(exp_values)\n",
    "    return exp_values/exp_values_sum"
   ]
  },
  {
   "cell_type": "markdown",
   "metadata": {},
   "source": [
    "Softmax function is prone to two issues: overflow and underflow\n",
    "\n",
    "Overflow: It occurs when very large numbers are approximated as infinity\n",
    "\n",
    "Underflow: It occurs when very small numbers (near zero in the number line) are approximated (i.e. rounded to) as zero\n",
    "\n",
    "To combat these issues when doing softmax computation, a common trick is to shift the input vector by subtracting the maximum element in it from all elements. For the input vector x, define z such that:\n",
    "softmax(x) = softmax(x + c)"
   ]
  },
  {
   "cell_type": "code",
   "execution_count": 4,
   "metadata": {},
   "outputs": [],
   "source": [
    "def stable_softmax(x):\n",
    "    z = x - max(x)\n",
    "    numerator = np.exp(z)\n",
    "    denominator = np.sum(numerator)\n",
    "    softmax = numerator/denominator\n",
    "\n",
    "    return softmax"
   ]
  },
  {
   "cell_type": "code",
   "execution_count": 14,
   "metadata": {},
   "outputs": [
    {
     "data": {
      "text/plain": [
       "4.085850409758004"
      ]
     },
     "execution_count": 14,
     "metadata": {},
     "output_type": "execute_result"
    }
   ],
   "source": [
    "import torch.nn as nn\n",
    "import torch\n",
    "\n",
    "def sigmoid(x):\n",
    "    return 1/(1+np.exp(-x))\n",
    "# Binary Cross Entropy loss for multi-label problem => use sigmoid.\n",
    "def binary_cross_entropy(y_pred, y):\n",
    "    y_pred = sigmoid(y_pred)\n",
    "    loss = -1* np.sum(y * np.log(y_pred) + (1-y) * np.log(1-y_pred))\n",
    "    return loss\n",
    "\n",
    "y_pred = np.array([1, 0, 0, 0, 0])\n",
    "y = np.array([0, 1, 1, 1, 0])\n",
    "binary_cross_entropy(y_pred, y)"
   ]
  },
  {
   "cell_type": "code",
   "execution_count": 12,
   "metadata": {},
   "outputs": [],
   "source": [
    "# Cross Entropy function.\n",
    "def cross_entropy_loss(self, y_pred, y):\n",
    "        y_pred = softmax(y_pred)\n",
    "        correct_logprobs = -np.log(y_pred[range(len(y_pred)), y])\n",
    "        loss = np.sum(correct_logprobs)\n",
    "        return 1.0/len(y_pred) * loss"
   ]
  },
  {
   "cell_type": "code",
   "execution_count": null,
   "metadata": {},
   "outputs": [],
   "source": []
  }
 ],
 "metadata": {
  "kernelspec": {
   "display_name": "Python 3",
   "language": "python",
   "name": "python3"
  },
  "language_info": {
   "codemirror_mode": {
    "name": "ipython",
    "version": 3
   },
   "file_extension": ".py",
   "mimetype": "text/x-python",
   "name": "python",
   "nbconvert_exporter": "python",
   "pygments_lexer": "ipython3",
   "version": "3.10.6"
  }
 },
 "nbformat": 4,
 "nbformat_minor": 2
}
