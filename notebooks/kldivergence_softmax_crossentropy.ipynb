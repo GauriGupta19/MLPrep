{
 "cells": [
  {
   "cell_type": "code",
   "execution_count": 2,
   "metadata": {},
   "outputs": [
    {
     "data": {
      "text/plain": [
       "1.3356800935337299"
      ]
     },
     "execution_count": 2,
     "metadata": {},
     "output_type": "execute_result"
    }
   ],
   "source": [
    "import numpy as np\n",
    "\n",
    "def kl_divergence(p, q):\n",
    " return sum(p[i] * np.log(p[i]/q[i]) for i in range(len(p)))\n",
    "\n",
    "\n",
    "p = [0.10, 0.40, 0.50]\n",
    "q = [0.80, 0.15, 0.05]\n",
    "kl_divergence(p, q)"
   ]
  },
  {
   "cell_type": "code",
   "execution_count": 3,
   "metadata": {},
   "outputs": [],
   "source": [
    "import numpy as np\n",
    "\n",
    "# Defining the softmax function\n",
    "def softmax(values):\n",
    "    exp_values = np.exp(values)\n",
    "    exp_values_sum = np.sum(exp_values)\n",
    "    return exp_values/exp_values_sum"
   ]
  },
  {
   "cell_type": "markdown",
   "metadata": {},
   "source": [
    "Softmax function is prone to two issues: overflow and underflow\n",
    "\n",
    "Overflow: It occurs when very large numbers are approximated as infinity\n",
    "\n",
    "Underflow: It occurs when very small numbers (near zero in the number line) are approximated (i.e. rounded to) as zero\n",
    "\n",
    "To combat these issues when doing softmax computation, a common trick is to shift the input vector by subtracting the maximum element in it from all elements. For the input vector x, define z such that:\n",
    "softmax(x) = softmax(x + c)"
   ]
  },
  {
   "cell_type": "code",
   "execution_count": 4,
   "metadata": {},
   "outputs": [],
   "source": [
    "def stable_softmax(x):\n",
    "    z = x - max(x)\n",
    "    numerator = np.exp(z)\n",
    "    denominator = np.sum(numerator)\n",
    "    softmax = numerator/denominator\n",
    "\n",
    "    return softmax"
   ]
  },
  {
   "cell_type": "code",
   "execution_count": 5,
   "metadata": {},
   "outputs": [
    {
     "data": {
      "text/plain": [
       "array([0.01165623, 0.03168492, 0.08612854, 0.23412166, 0.63640865])"
      ]
     },
     "execution_count": 5,
     "metadata": {},
     "output_type": "execute_result"
    }
   ],
   "source": [
    "vec = np.array([1, 2, 3, 4, 5])\n",
    "stable_softmax(vec)"
   ]
  },
  {
   "cell_type": "code",
   "execution_count": 6,
   "metadata": {},
   "outputs": [
    {
     "data": {
      "text/plain": [
       "0.010199795719758164"
      ]
     },
     "execution_count": 6,
     "metadata": {},
     "output_type": "execute_result"
    }
   ],
   "source": [
    "import torch.nn as nn\n",
    "import torch\n",
    "\n",
    "# Cross Entropy function.\n",
    "def cross_entropy(y_pred, y_true):\n",
    "\n",
    "    y_pred = softmax(y_pred)\n",
    "    loss = 0\n",
    "\n",
    "    for i in range(len(y_pred)):\n",
    "        loss = loss + (-1 * y_true[i]*np.log(y_pred[i]))\n",
    "\n",
    "    return loss\n",
    "\n",
    "y_true = [1, 0, 0, 0, 0]\n",
    "y_pred = [10, 5, 3, 1, 4]\n",
    "cross_entropy(y_pred, y_true)"
   ]
  },
  {
   "cell_type": "code",
   "execution_count": null,
   "metadata": {},
   "outputs": [],
   "source": []
  }
 ],
 "metadata": {
  "kernelspec": {
   "display_name": "Python 3",
   "language": "python",
   "name": "python3"
  },
  "language_info": {
   "codemirror_mode": {
    "name": "ipython",
    "version": 3
   },
   "file_extension": ".py",
   "mimetype": "text/x-python",
   "name": "python",
   "nbconvert_exporter": "python",
   "pygments_lexer": "ipython3",
   "version": "3.10.12"
  }
 },
 "nbformat": 4,
 "nbformat_minor": 2
}
