{
 "cells": [
  {
   "cell_type": "code",
   "execution_count": 2,
   "metadata": {},
   "outputs": [],
   "source": [
    "import torch\n",
    "import torch.nn as nn\n",
    "\n",
    "class MyDropout(nn.Module):\n",
    "    def __init__(self, p: float = 0.5):\n",
    "        super(MyDropout, self).__init__()\n",
    "        if p < 0 or p > 1:\n",
    "            raise ValueError(\"dropout probability has to be between 0 and 1, \" \"but got {}\".format(p))\n",
    "        self.p = p\n",
    "\n",
    "    def forward(self, X):\n",
    "        if self.training:\n",
    "            binomial = torch.distributions.binomial.Binomial(probs=1-self.p)\n",
    "            return X * binomial.sample(X.size()) * (1.0/(1-self.p))\n",
    "        return X"
   ]
  },
  {
   "cell_type": "code",
   "execution_count": 3,
   "metadata": {},
   "outputs": [
    {
     "data": {
      "text/plain": [
       "tensor([[ 0.0000,  0.0000],\n",
       "        [-2.1811, -3.2970],\n",
       "        [-0.5872,  0.0000],\n",
       "        [-3.4140, -1.0049],\n",
       "        [ 0.0000, -0.0000],\n",
       "        [-0.0946,  1.7374],\n",
       "        [ 0.0000, -0.0000],\n",
       "        [ 0.0000, -0.0000],\n",
       "        [-0.0000, -0.0000],\n",
       "        [ 0.0000, -1.9150]])"
      ]
     },
     "execution_count": 3,
     "metadata": {},
     "output_type": "execute_result"
    }
   ],
   "source": [
    "d = MyDropout()\n",
    "d(torch.randn(10, 2))"
   ]
  },
  {
   "cell_type": "code",
   "execution_count": null,
   "metadata": {},
   "outputs": [],
   "source": []
  }
 ],
 "metadata": {
  "kernelspec": {
   "display_name": "Python 3",
   "language": "python",
   "name": "python3"
  },
  "language_info": {
   "codemirror_mode": {
    "name": "ipython",
    "version": 3
   },
   "file_extension": ".py",
   "mimetype": "text/x-python",
   "name": "python",
   "nbconvert_exporter": "python",
   "pygments_lexer": "ipython3",
   "version": "3.10.12"
  }
 },
 "nbformat": 4,
 "nbformat_minor": 2
}
