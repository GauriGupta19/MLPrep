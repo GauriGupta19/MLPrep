{
 "cells": [
  {
   "cell_type": "code",
   "execution_count": 1,
   "metadata": {},
   "outputs": [],
   "source": [
    "import numpy as np\n",
    "\n",
    "class Sigmoid(object):\n",
    "  def __init__(self):\n",
    "      pass\n",
    "\n",
    "  def __call__(self, X):\n",
    "      return 1.0/(1.0+np.exp(-X))\n",
    "\n",
    "  def gradient(self, X):\n",
    "      Q = self(X)\n",
    "      return Q*(1-Q)"
   ]
  },
  {
   "cell_type": "code",
   "execution_count": 2,
   "metadata": {},
   "outputs": [],
   "source": [
    "import numpy as np\n",
    "\n",
    "class Tanh(object):\n",
    "  def __init__(self):\n",
    "      pass\n",
    "\n",
    "  def __call__(self, X):\n",
    "      return np.tanh(X)\n",
    "\n",
    "  def gradient(self, X):\n",
    "      return 1-np.tanh(X)**2"
   ]
  },
  {
   "cell_type": "code",
   "execution_count": 3,
   "metadata": {},
   "outputs": [],
   "source": [
    "import numpy as np\n",
    "\n",
    "class ReLU(object):\n",
    "  def __init__(self):\n",
    "      pass\n",
    "\n",
    "  def __call__(self, X):\n",
    "      return np.maximum(0, X)\n",
    "\n",
    "  def gradient(self, X):\n",
    "      # note I am considering df/dx @ x=0 to be 1\n",
    "      return (X > 0).astype(float)"
   ]
  },
  {
   "cell_type": "code",
   "execution_count": 4,
   "metadata": {},
   "outputs": [],
   "source": [
    "import numpy as np\n",
    "\n",
    "class Softmax():\n",
    "    def __init__(self):\n",
    "        super().__init__()\n",
    "\n",
    "    def __call__(self, x):\n",
    "        exp_scores = np.exp(x - np.max(x, axis=1, keepdims=True))\n",
    "        probs = exp_scores / np.sum(exp_scores, axis=1, keepdims=True)\n",
    "        return probs\n",
    "\n",
    "    def derivative(self, x):\n",
    "        raise NotImplementedError"
   ]
  },
  {
   "cell_type": "markdown",
   "metadata": {},
   "source": [
    "Softmax function is prone to two issues: overflow and underflow\n",
    "\n",
    "Overflow: It occurs when very large numbers are approximated as infinity\n",
    "\n",
    "Underflow: It occurs when very small numbers (near zero in the number line) are approximated (i.e. rounded to) as zero\n",
    "\n",
    "To combat these issues when doing softmax computation, a common trick is to shift the input vector by subtracting the maximum element in it from all elements. For the input vector x, define z such that:\n",
    "softmax(x) = softmax(x + c)"
   ]
  },
  {
   "cell_type": "code",
   "execution_count": null,
   "metadata": {},
   "outputs": [],
   "source": [
    "def stable_softmax(x):\n",
    "    z = x - max(x)\n",
    "    numerator = np.exp(z)\n",
    "    denominator = np.sum(numerator)\n",
    "    softmax = numerator/denominator\n",
    "\n",
    "    return softmax"
   ]
  },
  {
   "cell_type": "code",
   "execution_count": null,
   "metadata": {},
   "outputs": [],
   "source": []
  }
 ],
 "metadata": {
  "kernelspec": {
   "display_name": "Python 3",
   "language": "python",
   "name": "python3"
  },
  "language_info": {
   "codemirror_mode": {
    "name": "ipython",
    "version": 3
   },
   "file_extension": ".py",
   "mimetype": "text/x-python",
   "name": "python",
   "nbconvert_exporter": "python",
   "pygments_lexer": "ipython3",
   "version": "3.10.12"
  }
 },
 "nbformat": 4,
 "nbformat_minor": 2
}
