{
 "cells": [
  {
   "cell_type": "code",
   "execution_count": 11,
   "metadata": {},
   "outputs": [],
   "source": [
    "import torch.nn as nn\n",
    "import torch\n",
    "\n",
    "# prompt: Write a class for batch normalisation\n",
    "\n",
    "class BatchNorm(nn.Module):\n",
    "\n",
    "    def __init__(self, num_channels, eps=1e-5, momentum=0.1):\n",
    "        super().__init__()\n",
    "        self.eps = eps\n",
    "        self.momentum = momentum\n",
    "        # define parameters gamma, beta which are learnable\n",
    "        # dimension of gamma and beta should be (num_channels) ie its a one dimensional vector\n",
    "        # initializing gamma as ones vector and beta as zeros vector (implies no scaling/shifting at the start)\n",
    "        self.gamma = nn.Parameter(torch.ones(num_channels))\n",
    "        self.beta = nn.Parameter(torch.zeros(num_channels))\n",
    "        self.running_mean = torch.zeros(num_channels)\n",
    "        self.running_var = torch.ones(num_channels)\n",
    "\n",
    "    def forward(self, x):\n",
    "      # x = (b,c,h,w)\n",
    "      if self.training:\n",
    "          assert len(x.shape) in (2, 4)\n",
    "          if len(x.shape) == 2:\n",
    "            # When using a fully connected layer, calculate the mean and\n",
    "            # variance on the feature dimension\n",
    "            batch_mean = x.mean(axis=0)\n",
    "            batch_var = ((x - batch_mean) ** 2).mean(axis=0)\n",
    "          else:\n",
    "            # When using a two-dimensional convolutional layer, calculate the\n",
    "            # mean and variance on the channel dimension (axis=1). Here we\n",
    "            # need to maintain the shape of X, so that the broadcasting\n",
    "            # operation can be carried out later\n",
    "            batch_mean = x.mean(axis=(0, 2, 3), keepdims=True)\n",
    "            batch_var = ((x - batch_mean) ** 2).mean(axis=(0, 2, 3), keepdims=True)\n",
    "          batch_size = x.shape[0]\n",
    "          self.running_mean = (1 - self.momentum) * self.running_mean + self.momentum * batch_mean\n",
    "          self.running_var = (1 - self.momentum) * self.running_var + self.momentum * batch_var\n",
    "      else:\n",
    "          batch_mean = self.running_mean\n",
    "          batch_var = self.running_var\n",
    "      x_hat = (x - batch_mean) / torch.sqrt(batch_var + self.eps)\n",
    "      return self.gamma * x_hat + self.beta # Scale and shift\n",
    "\n"
   ]
  },
  {
   "cell_type": "code",
   "execution_count": 12,
   "metadata": {},
   "outputs": [],
   "source": [
    "class LayerNorm2D(nn.Module):\n",
    "    def __init__(self, num_channels, epsilon = 1e-5):\n",
    "        super(LayerNorm2D, self).__init__()\n",
    "        self.num_channels = num_channels\n",
    "        self.epsilon = epsilon\n",
    "\n",
    "        self.gamma = nn.Parameter(torch.ones(num_channels))\n",
    "        self.beta = nn.Parameter(torch.zeros(num_channels))\n",
    "\n",
    "    def forward(self, x):\n",
    "        assert list(x.shape)[1] == self.num_channels\n",
    "        assert len(x.shape) == 4 # 4 because len((batchsize, numchannels, height, width)) = 4\n",
    "\n",
    "        variance, mean = torch.var(x, dim = [1,2, 3], unbiased=False), torch.mean(x, dim = [1,2, 3])\n",
    "        out = (x-mean.view([-1, 1, 1, 1]))/torch.sqrt(variance.view([-1, 1, 1, 1])+self.epsilon)\n",
    "\n",
    "        out = self.gamma.view([1, self.num_channels, 1, 1]) * out + self.beta.view([1, self.num_channels, 1, 1])\n",
    "        return out"
   ]
  },
  {
   "cell_type": "code",
   "execution_count": 13,
   "metadata": {},
   "outputs": [],
   "source": [
    "class GroupNorm2D(nn.Module):\n",
    "    def __init__(self, num_channels, num_groups=4, epsilon=1e-5):\n",
    "        super(GroupNorm2D, self).__init__()\n",
    "        self.num_channels = num_channels\n",
    "        self.num_groups = num_groups\n",
    "        # self.num_groups = num_channels // 4\n",
    "        self.epsilon = epsilon\n",
    "        self.gamma = nn.Parameter(torch.ones(num_channels))\n",
    "        self.beta = nn.Parameter(torch.zeros(num_channels))\n",
    "\n",
    "    def forward(self, x):\n",
    "        assert x.shape[1] == self.num_channels\n",
    "        assert len(x.shape) == 4 #4 because (batchsize, numchannels, height, width)\n",
    "\n",
    "        [N, C, H, W] = list(x.shape)\n",
    "        print(x.shape)\n",
    "        out = torch.reshape(x, (N, self.num_groups, self.num_channels//self.num_groups, H, W))\n",
    "        print(out.shape)\n",
    "        variance, mean = torch.var(out, dim = [2, 3, 4], unbiased=False, keepdim=True), torch.mean(out, dim = [2, 3, 4], keepdim=True)\n",
    "        print(variance.shape)\n",
    "        out = (out-mean)/torch.sqrt(variance +self.epsilon)\n",
    "        out = out.view(N, self.num_channels, H, W)\n",
    "        out = self.gamma.view([1, self.num_channels, 1, 1]) * out + self.beta.view([1, self.num_channels, 1, 1])\n",
    "        return out"
   ]
  },
  {
   "cell_type": "code",
   "execution_count": 14,
   "metadata": {},
   "outputs": [
    {
     "name": "stdout",
     "output_type": "stream",
     "text": [
      "torch.Size([1, 12, 10, 10])\n",
      "torch.Size([1, 4, 3, 10, 10])\n",
      "torch.Size([1, 4, 1, 1, 1])\n"
     ]
    }
   ],
   "source": [
    "g = GroupNorm2D(12)\n",
    "x = torch.randn(1,12,10,10)\n",
    "y = g(x)"
   ]
  },
  {
   "cell_type": "code",
   "execution_count": 15,
   "metadata": {},
   "outputs": [],
   "source": [
    "class InstanceNorm2D(nn.Module):\n",
    "    def __init__(self, num_channels, epsilon = 1e-5, momentum = 0.9, rescale = True):\n",
    "        super(InstanceNorm2D, self).__init__()\n",
    "        self.num_channels = num_channels\n",
    "        self.epsilon = epsilon\n",
    "        self.momentum = momentum\n",
    "        self.rescale = rescale\n",
    "\n",
    "        if(self.rescale == True):\n",
    "            # define parameters gamma, beta which are learnable\n",
    "            # dimension of gamma and beta should be (num_channels) ie its a one dimensional vector\n",
    "            # initializing gamma as ones vector and beta as zeros vector (implies no scaling/shifting at the start)\n",
    "            self.gamma = nn.Parameter(torch.ones(num_channels))\n",
    "            self.beta = nn.Parameter(torch.zeros(num_channels))\n",
    "\n",
    "        # running mean and variance should have the same dimension as in batchnorm\n",
    "        # ie, a vector of size num_channels because while testing, when we get one\n",
    "        # sample at a time, we should be able to use this.\n",
    "        self.register_buffer('runningmean', torch.zeros(num_channels))\n",
    "        self.register_buffer('runningvar', torch.ones(num_channels))\n",
    "    def forward(self, x):\n",
    "        assert x.shape[1] == self.num_channels\n",
    "        assert len(x.shape) == 4 # 4 because len((batchsize, numchannels, height, width)) = 4\n",
    "\n",
    "        if(self.training):\n",
    "            #calculate mean and variance along the dimensions other than the channel dimension\n",
    "            #variance calculation is using the biased formula during training\n",
    "            variance, mean = torch.var(x, dim = [2, 3], unbiased=False), torch.mean(x, dim = [2, 3])\n",
    "            out = (x-mean.view([-1, self.num_channels, 1, 1]))/torch.sqrt(variance.view([-1, self.num_channels, 1, 1])+self.epsilon)\n",
    "\n",
    "        else:\n",
    "            variance, mean = torch.var(x, dim = [2, 3], unbiased=False), torch.mean(x, dim = [2, 3])\n",
    "            out = (x-mean.view([-1, self.num_channels, 1, 1]))/torch.sqrt(variance.view([-1, self.num_channels, 1, 1])+self.epsilon)\n",
    "\n",
    "        if(self.rescale == True):\n",
    "            out = self.gamma.view([1, self.num_channels, 1, 1]) * out + self.beta.view([1, self.num_channels, 1, 1])\n",
    "        return out"
   ]
  },
  {
   "cell_type": "code",
   "execution_count": null,
   "metadata": {},
   "outputs": [],
   "source": []
  },
  {
   "cell_type": "code",
   "execution_count": null,
   "metadata": {},
   "outputs": [],
   "source": []
  }
 ],
 "metadata": {
  "kernelspec": {
   "display_name": "Python 3",
   "language": "python",
   "name": "python3"
  },
  "language_info": {
   "codemirror_mode": {
    "name": "ipython",
    "version": 3
   },
   "file_extension": ".py",
   "mimetype": "text/x-python",
   "name": "python",
   "nbconvert_exporter": "python",
   "pygments_lexer": "ipython3",
   "version": "3.10.12"
  }
 },
 "nbformat": 4,
 "nbformat_minor": 2
}
