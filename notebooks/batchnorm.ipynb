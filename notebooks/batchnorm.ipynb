{
 "cells": [
  {
   "cell_type": "markdown",
   "metadata": {},
   "source": [
    "# BatchNorm"
   ]
  },
  {
   "cell_type": "code",
   "execution_count": 4,
   "metadata": {},
   "outputs": [],
   "source": [
    "import torch.nn as nn\n",
    "import torch\n",
    "\n",
    "# prompt: Write a class for batch normalisation\n",
    "\n",
    "class BatchNorm(nn.Module):\n",
    "\n",
    "    def __init__(self, num_channels, eps=1e-5, momentum=0.1):\n",
    "        super().__init__()\n",
    "        self.eps = eps\n",
    "        self.momentum = momentum\n",
    "        self.num_channels = num_channels\n",
    "        self.gamma = nn.Parameter(torch.ones(num_channels))\n",
    "        self.beta = nn.Parameter(torch.zeros(num_channels))\n",
    "        self.running_mean = torch.zeros(num_channels)\n",
    "        self.running_var = torch.ones(num_channels)\n",
    "\n",
    "    def forward(self, x):\n",
    "      # x = (b,c,h,w)\n",
    "      if self.training:\n",
    "          assert len(x.shape) in (2, 4)\n",
    "          if len(x.shape) == 2:\n",
    "            # When using a fully connected layer, calculate the mean and\n",
    "            # variance on the feature dimension\n",
    "            batch_mean = x.mean(axis=0)\n",
    "            batch_var = ((x - batch_mean) ** 2).mean(axis=0)\n",
    "          else:\n",
    "            batch_mean = x.mean(axis=(0, 2, 3), keepdims=True)\n",
    "            batch_var = ((x - batch_mean) ** 2).mean(axis=(0, 2, 3), keepdims=True)\n",
    "          batch_size = x.shape[0]\n",
    "          self.running_mean = (1 - self.momentum) * self.running_mean + self.momentum * batch_mean\n",
    "          self.running_var = (1 - self.momentum) * self.running_var + self.momentum * batch_var\n",
    "      else:\n",
    "          batch_mean = self.running_mean\n",
    "          batch_var = self.running_var\n",
    "      x_hat = (x - batch_mean) / torch.sqrt(batch_var + self.eps)\n",
    "      # print(x_hat.shape)\n",
    "      out = self.gamma.view([1, self.num_channels, 1, 1]) * x_hat + self.beta.view([1, self.num_channels, 1, 1])\n",
    "      return out\n"
   ]
  },
  {
   "cell_type": "code",
   "execution_count": 5,
   "metadata": {},
   "outputs": [],
   "source": [
    "g = BatchNorm(12)\n",
    "x = torch.randn(7,12,10,10)\n",
    "y = g(x)"
   ]
  },
  {
   "cell_type": "markdown",
   "metadata": {},
   "source": [
    "# LayerNorm"
   ]
  },
  {
   "cell_type": "code",
   "execution_count": 6,
   "metadata": {},
   "outputs": [],
   "source": [
    "import torch\n",
    "class LayerNorm2D(nn.Module):\n",
    "    def __init__(self, normalized_shape, epsilon = 1e-5):\n",
    "        super(LayerNorm2D, self).__init__()\n",
    "        self.epsilon = epsilon\n",
    "        self.normalized_shape = normalized_shape\n",
    "        self.gamma = nn.Parameter(torch.ones(normalized_shape))\n",
    "        self.beta = nn.Parameter(torch.zeros(normalized_shape))\n",
    "\n",
    "    def forward(self, x):\n",
    "        assert len(x.shape) == 4 # 4 because len((batchsize, numchannels, height, width)) = 4\n",
    "\n",
    "        variance = torch.var(x, dim = [1,2, 3], keepdims=True) \n",
    "        mean=torch.mean(x, dim = [1,2, 3], keepdims=True)\n",
    "        out = (x-mean)/(torch.sqrt(variance)+self.epsilon)\n",
    "\n",
    "        out = self.gamma.view([1, *self.normalized_shape]) * out + self.beta.view([1, *self.normalized_shape])\n",
    "        return out"
   ]
  },
  {
   "cell_type": "code",
   "execution_count": null,
   "metadata": {},
   "outputs": [],
   "source": [
    "x = torch.randn(7,12,10,10)\n",
    "g = LayerNorm2D([12,10,10])\n",
    "y = g(x)\n"
   ]
  },
  {
   "cell_type": "markdown",
   "metadata": {},
   "source": [
    "# GroupNorm"
   ]
  },
  {
   "cell_type": "code",
   "execution_count": 8,
   "metadata": {},
   "outputs": [],
   "source": [
    "class GroupNorm2D(nn.Module):\n",
    "    def __init__(self, num_channels, num_groups=4, epsilon=1e-5):\n",
    "        super(GroupNorm2D, self).__init__()\n",
    "        self.num_channels = num_channels\n",
    "        self.num_groups = num_groups\n",
    "        # self.num_groups = num_channels // 4\n",
    "        self.epsilon = epsilon\n",
    "        self.gamma = nn.Parameter(torch.ones(num_channels))\n",
    "        self.beta = nn.Parameter(torch.zeros(num_channels))\n",
    "\n",
    "    def forward(self, x):\n",
    "        assert x.shape[1] == self.num_channels\n",
    "        assert self.num_channels % self.num_groups == 0\n",
    "\n",
    "        [N, C, H, W] = list(x.shape)\n",
    "        out = torch.reshape(x, (N, self.num_groups, self.num_channels//self.num_groups, H, W))\n",
    "        variance = torch.var(out, dim = [2, 3, 4], unbiased=False, keepdim=True)\n",
    "        mean = torch.mean(out, dim = [2, 3, 4], keepdim=True)\n",
    "        out = (out-mean)/torch.sqrt(variance +self.epsilon)\n",
    "        out = out.view(N, self.num_channels, H, W)\n",
    "        out = self.gamma.view([1, self.num_channels, 1, 1]) * out + self.beta.view([1, self.num_channels, 1, 1])\n",
    "        return out"
   ]
  },
  {
   "cell_type": "code",
   "execution_count": 9,
   "metadata": {},
   "outputs": [],
   "source": [
    "x = torch.randn(7,12,10,10)\n",
    "g = GroupNorm2D(num_channels=12, num_groups=3)\n",
    "y = g(x)"
   ]
  },
  {
   "cell_type": "code",
   "execution_count": null,
   "metadata": {},
   "outputs": [],
   "source": []
  },
  {
   "cell_type": "markdown",
   "metadata": {},
   "source": [
    "# InstanceNorm"
   ]
  },
  {
   "cell_type": "code",
   "execution_count": 13,
   "metadata": {},
   "outputs": [],
   "source": [
    "class InstanceNorm2D(nn.Module):\n",
    "    def __init__(self, num_channels, epsilon = 1e-5, momentum = 0.9, rescale = True):\n",
    "        super(InstanceNorm2D, self).__init__()\n",
    "        self.num_channels = num_channels\n",
    "        self.epsilon = epsilon\n",
    "        self.momentum = momentum\n",
    "        self.rescale = rescale\n",
    "\n",
    "        if(self.rescale == True):\n",
    "            self.gamma = nn.Parameter(torch.ones(num_channels))\n",
    "            self.beta = nn.Parameter(torch.zeros(num_channels))\n",
    "        self.register_buffer('runningmean', torch.zeros(num_channels))\n",
    "        self.register_buffer('runningvar', torch.ones(num_channels))\n",
    "    def forward(self, x):\n",
    "        assert x.shape[1] == self.num_channels\n",
    "        assert len(x.shape) == 4 # 4 because len((batchsize, numchannels, height, width)) = 4\n",
    "\n",
    "        if(self.training):\n",
    "            variance, mean = torch.var(x, dim = [2, 3], unbiased=False), torch.mean(x, dim = [2, 3])\n",
    "            out = (x-mean.view([-1, self.num_channels, 1, 1]))/\n",
    "                    torch.sqrt(variance.view([-1, self.num_channels, 1, 1])+self.epsilon)\n",
    "\n",
    "        else:\n",
    "            variance, mean = torch.var(x, dim = [2, 3], unbiased=False), torch.mean(x, dim = [2, 3])\n",
    "            out = (x-mean.view([-1, self.num_channels, 1, 1]))/\n",
    "                torch.sqrt(variance.view([-1, self.num_channels, 1, 1])+self.epsilon)\n",
    "\n",
    "        if(self.rescale == True):\n",
    "            out = self.gamma.view([1, self.num_channels, 1, 1]) * \n",
    "                out + self.beta.view([1, self.num_channels, 1, 1])\n",
    "        return out"
   ]
  },
  {
   "cell_type": "code",
   "execution_count": 14,
   "metadata": {},
   "outputs": [
    {
     "name": "stdout",
     "output_type": "stream",
     "text": [
      "torch.Size([7, 12, 10, 10])\n",
      "torch.Size([7, 12, 10, 10])\n",
      "tensor(True)\n"
     ]
    }
   ],
   "source": [
    "x = torch.randn(7,12,10,10)\n",
    "g = InstanceNorm2D(num_channels=12)\n",
    "y_old = g(x)\n",
    "print(y_old.shape)\n",
    "\n",
    "\n",
    "g = torch.nn.InstanceNorm2d(num_features=12)\n",
    "y_true = g(x)\n",
    "print(y_true.shape)\n",
    "\n",
    "print((abs(y_true-y_old) < 1e-6).all())\n"
   ]
  },
  {
   "cell_type": "code",
   "execution_count": null,
   "metadata": {},
   "outputs": [],
   "source": []
  }
 ],
 "metadata": {
  "kernelspec": {
   "display_name": "Python 3",
   "language": "python",
   "name": "python3"
  },
  "language_info": {
   "codemirror_mode": {
    "name": "ipython",
    "version": 3
   },
   "file_extension": ".py",
   "mimetype": "text/x-python",
   "name": "python",
   "nbconvert_exporter": "python",
   "pygments_lexer": "ipython3",
   "version": "3.10.12"
  }
 },
 "nbformat": 4,
 "nbformat_minor": 2
}
